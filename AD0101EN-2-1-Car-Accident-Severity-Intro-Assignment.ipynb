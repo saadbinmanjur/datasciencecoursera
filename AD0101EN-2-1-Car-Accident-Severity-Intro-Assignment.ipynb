{
 "cells": [
  {
   "cell_type": "markdown",
   "metadata": {},
   "source": [
    "# Applied Data Science Capstone\n",
    "## Analysis on Car Accident Severity"
   ]
  },
  {
   "cell_type": "markdown",
   "metadata": {},
   "source": [
    "### Introduction/Business Problem"
   ]
  },
  {
   "cell_type": "markdown",
   "metadata": {},
   "source": [
    "Road traffic accident not only causes injuries and casualties to public but also impede economic performance. According to WHO, 1.25 million people worldwide died in road accidents in 2013, five times more than the death toll of the 2004 Indian Ocean tsunami. Reducing traffic accidents is undoubtedly an imperative need, but it is also challenging to implement a feasible and effective programme witout knowing the accident occurence pattern. In this project, it aims to find out such pattern by analysing historical traffic accident data in predicting accident severity thus to optmize resources in a most efficent way in the areas or conditions that require most attention. Moreover, a compelling urban planning which prones less to severe traffic accident, or an intelligent advising system could then be devised if a prediction of a likelihood traffic accient is well built."
   ]
  }
 ],
 "metadata": {
  "kernelspec": {
   "display_name": "Python 3",
   "language": "python",
   "name": "python3"
  },
  "language_info": {
   "codemirror_mode": {
    "name": "ipython",
    "version": 3
   },
   "file_extension": ".py",
   "mimetype": "text/x-python",
   "name": "python",
   "nbconvert_exporter": "python",
   "pygments_lexer": "ipython3",
   "version": "3.8.5"
  }
 },
 "nbformat": 4,
 "nbformat_minor": 4
}
