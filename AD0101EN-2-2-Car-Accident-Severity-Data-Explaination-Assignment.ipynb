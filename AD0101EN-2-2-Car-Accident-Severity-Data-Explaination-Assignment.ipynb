{
 "cells": [
  {
   "cell_type": "markdown",
   "metadata": {},
   "source": [
    "# Applied Data Science Capstone\n",
    "## Analysis on Car Accident Severity"
   ]
  },
  {
   "cell_type": "markdown",
   "metadata": {},
   "source": [
    "### Data Explaination"
   ]
  },
  {
   "cell_type": "markdown",
   "metadata": {},
   "source": [
    "The data used in this project is provided by Coursera, sourced from Seatle Department of Transportation (SPOT). It consists of collision accidents from Apr 2004 to May 2020 provided by Seatle Police Department (SPD) by Traffic Records. There are 194,673 records and 37 attributes could be used in predicting the accident severity. Here are some highlights:\n",
    "\n",
    "#### Target Variable `SEVERITYCODE`\n",
    "A code that corresponds to the severity of the\n",
    "collision:\n",
    "* 3 - fatality\n",
    "* 2b - serious injury\n",
    "* 2 - injury\n",
    "* 1 - prop damage\n",
    "* 0 - unknown\n",
    "\n",
    "#### Some Highlights on the Independant Variables*\n",
    "There are 37 attributes in total, and they range from continuous numeric values to categorical text. Below is 10 of them for instance, giving us a rough idea on how they could be used to predict an accident severity.\n",
    "\n",
    "> `LOCATION` Description of the general location of the collision\n",
    ">\n",
    "> `WEATHER` A description of the weather conditions during the time of the collision\n",
    ">\n",
    "> `ROADCOND` The condition of the road during the collision\n",
    ">\n",
    "> `JUNCTIONTYPE` Category of junction at which collision took place \n",
    ">\n",
    "> `LIGHTCOND` The light conditions during the collision\n",
    ">\n",
    "> `SPEEDING` Whether or not speeding was a factor in the collision (Y/N)\n",
    ">\n",
    "> `PERSONCOUNT` The total number of people involved in the collision \n",
    ">\n",
    "> `VEHCOUNT` The number of vehicles involved in the collision. This is entered by the state.\n",
    ">\n",
    "> `INATTENTIONIND` Whether or not collision was due to inattention (Y/N) \n",
    ">\n",
    "> `UNDERINFL` Whether or not a driver involved was under the influence of drugs or alcohol\n",
    "\n",
    "Not all 37 attributes (e.g. `SEVERITYDESC` -A detailed description of the severity of the collision-) are useful in predicting an accident severity, and some data may have missing values, or even is unbalanced which could lead a biased prediction if it is left inact. Therefore, a series of data preparation and preprocessing procedures will be needed by using explorative and descriptive analsyis techniques later."
   ]
  },
  {
   "cell_type": "markdown",
   "metadata": {},
   "source": [
    "<i style='font-size:85%'>* For a full description on the data attributes, please <a href='https://github.com/llungg/Coursera-IBM-Data-Science/blob/main/Metadata.pdf'>click</a> here for more information.</i>"
   ]
  },
  {
   "cell_type": "code",
   "execution_count": null,
   "metadata": {},
   "outputs": [],
   "source": []
  }
 ],
 "metadata": {
  "kernelspec": {
   "display_name": "Python 3",
   "language": "python",
   "name": "python3"
  },
  "language_info": {
   "codemirror_mode": {
    "name": "ipython",
    "version": 3
   },
   "file_extension": ".py",
   "mimetype": "text/x-python",
   "name": "python",
   "nbconvert_exporter": "python",
   "pygments_lexer": "ipython3",
   "version": "3.8.5"
  }
 },
 "nbformat": 4,
 "nbformat_minor": 4
}
